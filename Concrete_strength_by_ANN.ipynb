{
  "nbformat": 4,
  "nbformat_minor": 0,
  "metadata": {
    "colab": {
      "provenance": []
    },
    "kernelspec": {
      "name": "python3",
      "display_name": "Python 3"
    },
    "language_info": {
      "name": "python"
    }
  },
  "cells": [
    {
      "cell_type": "code",
      "execution_count": 2,
      "metadata": {
        "id": "HA2W94LsbE-D"
      },
      "outputs": [],
      "source": [
        "import numpy as np\n",
        "import pandas as pd\n",
        "import keras"
      ]
    },
    {
      "cell_type": "code",
      "source": [
        "df=pd.read_csv(\"Concrete_Data_Yeh.csv\")"
      ],
      "metadata": {
        "id": "2zvFzfq2ZDzV"
      },
      "execution_count": 3,
      "outputs": []
    },
    {
      "cell_type": "code",
      "source": [
        "display(df)"
      ],
      "metadata": {
        "colab": {
          "base_uri": "https://localhost:8080/",
          "height": 424
        },
        "id": "oHCpQNoFnmx4",
        "outputId": "8fa2f89d-de0e-438c-ab20-02d909123029"
      },
      "execution_count": 4,
      "outputs": [
        {
          "output_type": "display_data",
          "data": {
            "text/plain": [
              "      cement   slag  flyash  water  superplasticizer  coarseaggregate  \\\n",
              "0      540.0    0.0     0.0  162.0               2.5           1040.0   \n",
              "1      540.0    0.0     0.0  162.0               2.5           1055.0   \n",
              "2      332.5  142.5     0.0  228.0               0.0            932.0   \n",
              "3      332.5  142.5     0.0  228.0               0.0            932.0   \n",
              "4      198.6  132.4     0.0  192.0               0.0            978.4   \n",
              "...      ...    ...     ...    ...               ...              ...   \n",
              "1025   276.4  116.0    90.3  179.6               8.9            870.1   \n",
              "1026   322.2    0.0   115.6  196.0              10.4            817.9   \n",
              "1027   148.5  139.4   108.6  192.7               6.1            892.4   \n",
              "1028   159.1  186.7     0.0  175.6              11.3            989.6   \n",
              "1029   260.9  100.5    78.3  200.6               8.6            864.5   \n",
              "\n",
              "      fineaggregate  age  csMPa  \n",
              "0             676.0   28  79.99  \n",
              "1             676.0   28  61.89  \n",
              "2             594.0  270  40.27  \n",
              "3             594.0  365  41.05  \n",
              "4             825.5  360  44.30  \n",
              "...             ...  ...    ...  \n",
              "1025          768.3   28  44.28  \n",
              "1026          813.4   28  31.18  \n",
              "1027          780.0   28  23.70  \n",
              "1028          788.9   28  32.77  \n",
              "1029          761.5   28  32.40  \n",
              "\n",
              "[1030 rows x 9 columns]"
            ],
            "text/html": [
              "\n",
              "  <div id=\"df-482f28b0-01a5-43af-8f65-0bddbf05c8b3\">\n",
              "    <div class=\"colab-df-container\">\n",
              "      <div>\n",
              "<style scoped>\n",
              "    .dataframe tbody tr th:only-of-type {\n",
              "        vertical-align: middle;\n",
              "    }\n",
              "\n",
              "    .dataframe tbody tr th {\n",
              "        vertical-align: top;\n",
              "    }\n",
              "\n",
              "    .dataframe thead th {\n",
              "        text-align: right;\n",
              "    }\n",
              "</style>\n",
              "<table border=\"1\" class=\"dataframe\">\n",
              "  <thead>\n",
              "    <tr style=\"text-align: right;\">\n",
              "      <th></th>\n",
              "      <th>cement</th>\n",
              "      <th>slag</th>\n",
              "      <th>flyash</th>\n",
              "      <th>water</th>\n",
              "      <th>superplasticizer</th>\n",
              "      <th>coarseaggregate</th>\n",
              "      <th>fineaggregate</th>\n",
              "      <th>age</th>\n",
              "      <th>csMPa</th>\n",
              "    </tr>\n",
              "  </thead>\n",
              "  <tbody>\n",
              "    <tr>\n",
              "      <th>0</th>\n",
              "      <td>540.0</td>\n",
              "      <td>0.0</td>\n",
              "      <td>0.0</td>\n",
              "      <td>162.0</td>\n",
              "      <td>2.5</td>\n",
              "      <td>1040.0</td>\n",
              "      <td>676.0</td>\n",
              "      <td>28</td>\n",
              "      <td>79.99</td>\n",
              "    </tr>\n",
              "    <tr>\n",
              "      <th>1</th>\n",
              "      <td>540.0</td>\n",
              "      <td>0.0</td>\n",
              "      <td>0.0</td>\n",
              "      <td>162.0</td>\n",
              "      <td>2.5</td>\n",
              "      <td>1055.0</td>\n",
              "      <td>676.0</td>\n",
              "      <td>28</td>\n",
              "      <td>61.89</td>\n",
              "    </tr>\n",
              "    <tr>\n",
              "      <th>2</th>\n",
              "      <td>332.5</td>\n",
              "      <td>142.5</td>\n",
              "      <td>0.0</td>\n",
              "      <td>228.0</td>\n",
              "      <td>0.0</td>\n",
              "      <td>932.0</td>\n",
              "      <td>594.0</td>\n",
              "      <td>270</td>\n",
              "      <td>40.27</td>\n",
              "    </tr>\n",
              "    <tr>\n",
              "      <th>3</th>\n",
              "      <td>332.5</td>\n",
              "      <td>142.5</td>\n",
              "      <td>0.0</td>\n",
              "      <td>228.0</td>\n",
              "      <td>0.0</td>\n",
              "      <td>932.0</td>\n",
              "      <td>594.0</td>\n",
              "      <td>365</td>\n",
              "      <td>41.05</td>\n",
              "    </tr>\n",
              "    <tr>\n",
              "      <th>4</th>\n",
              "      <td>198.6</td>\n",
              "      <td>132.4</td>\n",
              "      <td>0.0</td>\n",
              "      <td>192.0</td>\n",
              "      <td>0.0</td>\n",
              "      <td>978.4</td>\n",
              "      <td>825.5</td>\n",
              "      <td>360</td>\n",
              "      <td>44.30</td>\n",
              "    </tr>\n",
              "    <tr>\n",
              "      <th>...</th>\n",
              "      <td>...</td>\n",
              "      <td>...</td>\n",
              "      <td>...</td>\n",
              "      <td>...</td>\n",
              "      <td>...</td>\n",
              "      <td>...</td>\n",
              "      <td>...</td>\n",
              "      <td>...</td>\n",
              "      <td>...</td>\n",
              "    </tr>\n",
              "    <tr>\n",
              "      <th>1025</th>\n",
              "      <td>276.4</td>\n",
              "      <td>116.0</td>\n",
              "      <td>90.3</td>\n",
              "      <td>179.6</td>\n",
              "      <td>8.9</td>\n",
              "      <td>870.1</td>\n",
              "      <td>768.3</td>\n",
              "      <td>28</td>\n",
              "      <td>44.28</td>\n",
              "    </tr>\n",
              "    <tr>\n",
              "      <th>1026</th>\n",
              "      <td>322.2</td>\n",
              "      <td>0.0</td>\n",
              "      <td>115.6</td>\n",
              "      <td>196.0</td>\n",
              "      <td>10.4</td>\n",
              "      <td>817.9</td>\n",
              "      <td>813.4</td>\n",
              "      <td>28</td>\n",
              "      <td>31.18</td>\n",
              "    </tr>\n",
              "    <tr>\n",
              "      <th>1027</th>\n",
              "      <td>148.5</td>\n",
              "      <td>139.4</td>\n",
              "      <td>108.6</td>\n",
              "      <td>192.7</td>\n",
              "      <td>6.1</td>\n",
              "      <td>892.4</td>\n",
              "      <td>780.0</td>\n",
              "      <td>28</td>\n",
              "      <td>23.70</td>\n",
              "    </tr>\n",
              "    <tr>\n",
              "      <th>1028</th>\n",
              "      <td>159.1</td>\n",
              "      <td>186.7</td>\n",
              "      <td>0.0</td>\n",
              "      <td>175.6</td>\n",
              "      <td>11.3</td>\n",
              "      <td>989.6</td>\n",
              "      <td>788.9</td>\n",
              "      <td>28</td>\n",
              "      <td>32.77</td>\n",
              "    </tr>\n",
              "    <tr>\n",
              "      <th>1029</th>\n",
              "      <td>260.9</td>\n",
              "      <td>100.5</td>\n",
              "      <td>78.3</td>\n",
              "      <td>200.6</td>\n",
              "      <td>8.6</td>\n",
              "      <td>864.5</td>\n",
              "      <td>761.5</td>\n",
              "      <td>28</td>\n",
              "      <td>32.40</td>\n",
              "    </tr>\n",
              "  </tbody>\n",
              "</table>\n",
              "<p>1030 rows × 9 columns</p>\n",
              "</div>\n",
              "      <button class=\"colab-df-convert\" onclick=\"convertToInteractive('df-482f28b0-01a5-43af-8f65-0bddbf05c8b3')\"\n",
              "              title=\"Convert this dataframe to an interactive table.\"\n",
              "              style=\"display:none;\">\n",
              "        \n",
              "  <svg xmlns=\"http://www.w3.org/2000/svg\" height=\"24px\"viewBox=\"0 0 24 24\"\n",
              "       width=\"24px\">\n",
              "    <path d=\"M0 0h24v24H0V0z\" fill=\"none\"/>\n",
              "    <path d=\"M18.56 5.44l.94 2.06.94-2.06 2.06-.94-2.06-.94-.94-2.06-.94 2.06-2.06.94zm-11 1L8.5 8.5l.94-2.06 2.06-.94-2.06-.94L8.5 2.5l-.94 2.06-2.06.94zm10 10l.94 2.06.94-2.06 2.06-.94-2.06-.94-.94-2.06-.94 2.06-2.06.94z\"/><path d=\"M17.41 7.96l-1.37-1.37c-.4-.4-.92-.59-1.43-.59-.52 0-1.04.2-1.43.59L10.3 9.45l-7.72 7.72c-.78.78-.78 2.05 0 2.83L4 21.41c.39.39.9.59 1.41.59.51 0 1.02-.2 1.41-.59l7.78-7.78 2.81-2.81c.8-.78.8-2.07 0-2.86zM5.41 20L4 18.59l7.72-7.72 1.47 1.35L5.41 20z\"/>\n",
              "  </svg>\n",
              "      </button>\n",
              "      \n",
              "  <style>\n",
              "    .colab-df-container {\n",
              "      display:flex;\n",
              "      flex-wrap:wrap;\n",
              "      gap: 12px;\n",
              "    }\n",
              "\n",
              "    .colab-df-convert {\n",
              "      background-color: #E8F0FE;\n",
              "      border: none;\n",
              "      border-radius: 50%;\n",
              "      cursor: pointer;\n",
              "      display: none;\n",
              "      fill: #1967D2;\n",
              "      height: 32px;\n",
              "      padding: 0 0 0 0;\n",
              "      width: 32px;\n",
              "    }\n",
              "\n",
              "    .colab-df-convert:hover {\n",
              "      background-color: #E2EBFA;\n",
              "      box-shadow: 0px 1px 2px rgba(60, 64, 67, 0.3), 0px 1px 3px 1px rgba(60, 64, 67, 0.15);\n",
              "      fill: #174EA6;\n",
              "    }\n",
              "\n",
              "    [theme=dark] .colab-df-convert {\n",
              "      background-color: #3B4455;\n",
              "      fill: #D2E3FC;\n",
              "    }\n",
              "\n",
              "    [theme=dark] .colab-df-convert:hover {\n",
              "      background-color: #434B5C;\n",
              "      box-shadow: 0px 1px 3px 1px rgba(0, 0, 0, 0.15);\n",
              "      filter: drop-shadow(0px 1px 2px rgba(0, 0, 0, 0.3));\n",
              "      fill: #FFFFFF;\n",
              "    }\n",
              "  </style>\n",
              "\n",
              "      <script>\n",
              "        const buttonEl =\n",
              "          document.querySelector('#df-482f28b0-01a5-43af-8f65-0bddbf05c8b3 button.colab-df-convert');\n",
              "        buttonEl.style.display =\n",
              "          google.colab.kernel.accessAllowed ? 'block' : 'none';\n",
              "\n",
              "        async function convertToInteractive(key) {\n",
              "          const element = document.querySelector('#df-482f28b0-01a5-43af-8f65-0bddbf05c8b3');\n",
              "          const dataTable =\n",
              "            await google.colab.kernel.invokeFunction('convertToInteractive',\n",
              "                                                     [key], {});\n",
              "          if (!dataTable) return;\n",
              "\n",
              "          const docLinkHtml = 'Like what you see? Visit the ' +\n",
              "            '<a target=\"_blank\" href=https://colab.research.google.com/notebooks/data_table.ipynb>data table notebook</a>'\n",
              "            + ' to learn more about interactive tables.';\n",
              "          element.innerHTML = '';\n",
              "          dataTable['output_type'] = 'display_data';\n",
              "          await google.colab.output.renderOutput(dataTable, element);\n",
              "          const docLink = document.createElement('div');\n",
              "          docLink.innerHTML = docLinkHtml;\n",
              "          element.appendChild(docLink);\n",
              "        }\n",
              "      </script>\n",
              "    </div>\n",
              "  </div>\n",
              "  "
            ]
          },
          "metadata": {}
        }
      ]
    },
    {
      "cell_type": "code",
      "source": [
        "print(\"Shape:\",df.shape)\n",
        "print(\"Columns: \\n\",df.columns)\n",
        "print(df.describe)"
      ],
      "metadata": {
        "colab": {
          "base_uri": "https://localhost:8080/"
        },
        "id": "9a-AYm23nm1b",
        "outputId": "eed466d5-3836-41bd-bbea-a1c873cf7a6e"
      },
      "execution_count": 8,
      "outputs": [
        {
          "output_type": "stream",
          "name": "stdout",
          "text": [
            "Shape: (1030, 9)\n",
            "Columns: \n",
            " Index(['cement', 'slag', 'flyash', 'water', 'superplasticizer',\n",
            "       'coarseaggregate', 'fineaggregate', 'age', 'csMPa'],\n",
            "      dtype='object')\n",
            "<bound method NDFrame.describe of       cement   slag  flyash  water  superplasticizer  coarseaggregate  \\\n",
            "0      540.0    0.0     0.0  162.0               2.5           1040.0   \n",
            "1      540.0    0.0     0.0  162.0               2.5           1055.0   \n",
            "2      332.5  142.5     0.0  228.0               0.0            932.0   \n",
            "3      332.5  142.5     0.0  228.0               0.0            932.0   \n",
            "4      198.6  132.4     0.0  192.0               0.0            978.4   \n",
            "...      ...    ...     ...    ...               ...              ...   \n",
            "1025   276.4  116.0    90.3  179.6               8.9            870.1   \n",
            "1026   322.2    0.0   115.6  196.0              10.4            817.9   \n",
            "1027   148.5  139.4   108.6  192.7               6.1            892.4   \n",
            "1028   159.1  186.7     0.0  175.6              11.3            989.6   \n",
            "1029   260.9  100.5    78.3  200.6               8.6            864.5   \n",
            "\n",
            "      fineaggregate  age  csMPa  \n",
            "0             676.0   28  79.99  \n",
            "1             676.0   28  61.89  \n",
            "2             594.0  270  40.27  \n",
            "3             594.0  365  41.05  \n",
            "4             825.5  360  44.30  \n",
            "...             ...  ...    ...  \n",
            "1025          768.3   28  44.28  \n",
            "1026          813.4   28  31.18  \n",
            "1027          780.0   28  23.70  \n",
            "1028          788.9   28  32.77  \n",
            "1029          761.5   28  32.40  \n",
            "\n",
            "[1030 rows x 9 columns]>\n"
          ]
        }
      ]
    },
    {
      "cell_type": "code",
      "source": [
        "df.info()"
      ],
      "metadata": {
        "colab": {
          "base_uri": "https://localhost:8080/"
        },
        "id": "u5TBLYAqnm38",
        "outputId": "89e23acb-33a7-433e-eca6-175fd17b6ce8"
      },
      "execution_count": 9,
      "outputs": [
        {
          "output_type": "stream",
          "name": "stdout",
          "text": [
            "<class 'pandas.core.frame.DataFrame'>\n",
            "RangeIndex: 1030 entries, 0 to 1029\n",
            "Data columns (total 9 columns):\n",
            " #   Column            Non-Null Count  Dtype  \n",
            "---  ------            --------------  -----  \n",
            " 0   cement            1030 non-null   float64\n",
            " 1   slag              1030 non-null   float64\n",
            " 2   flyash            1030 non-null   float64\n",
            " 3   water             1030 non-null   float64\n",
            " 4   superplasticizer  1030 non-null   float64\n",
            " 5   coarseaggregate   1030 non-null   float64\n",
            " 6   fineaggregate     1030 non-null   float64\n",
            " 7   age               1030 non-null   int64  \n",
            " 8   csMPa             1030 non-null   float64\n",
            "dtypes: float64(8), int64(1)\n",
            "memory usage: 72.5 KB\n"
          ]
        }
      ]
    },
    {
      "cell_type": "code",
      "source": [
        "df.isna().any()"
      ],
      "metadata": {
        "colab": {
          "base_uri": "https://localhost:8080/"
        },
        "id": "g_pBuOPRnm7Z",
        "outputId": "9684a002-13a4-4203-f6e7-d58115c6f49d"
      },
      "execution_count": 10,
      "outputs": [
        {
          "output_type": "execute_result",
          "data": {
            "text/plain": [
              "cement              False\n",
              "slag                False\n",
              "flyash              False\n",
              "water               False\n",
              "superplasticizer    False\n",
              "coarseaggregate     False\n",
              "fineaggregate       False\n",
              "age                 False\n",
              "csMPa               False\n",
              "dtype: bool"
            ]
          },
          "metadata": {},
          "execution_count": 10
        }
      ]
    },
    {
      "cell_type": "code",
      "source": [
        "from sklearn.preprocessing import StandardScaler\n",
        "from sklearn.model_selection import train_test_split"
      ],
      "metadata": {
        "id": "8cYK0WiQnnMU"
      },
      "execution_count": 14,
      "outputs": []
    },
    {
      "cell_type": "code",
      "source": [
        "sca=StandardScaler()"
      ],
      "metadata": {
        "id": "tNAN0tD3nnQN"
      },
      "execution_count": 12,
      "outputs": []
    },
    {
      "cell_type": "code",
      "source": [
        "x=df.iloc[:,0:8]\n",
        "y=df['csMPa']"
      ],
      "metadata": {
        "id": "HgnsysjLra_R"
      },
      "execution_count": 13,
      "outputs": []
    },
    {
      "cell_type": "code",
      "source": [
        "xtr,xts,ytr,yts=train_test_split(x,y,test_size=0.25,random_state=0)"
      ],
      "metadata": {
        "id": "y_a_33iErbC9"
      },
      "execution_count": 15,
      "outputs": []
    },
    {
      "cell_type": "code",
      "source": [
        "xtr=sca.fit_transform(xtr)\n",
        "xts=sca.transform(xts)"
      ],
      "metadata": {
        "id": "4eJqTHCQrbE5"
      },
      "execution_count": 16,
      "outputs": []
    },
    {
      "cell_type": "code",
      "source": [
        "xtr"
      ],
      "metadata": {
        "colab": {
          "base_uri": "https://localhost:8080/"
        },
        "id": "860SmEp_rbII",
        "outputId": "68aabd34-6e8c-4b4b-dc26-94833b72ed98"
      },
      "execution_count": 17,
      "outputs": [
        {
          "output_type": "execute_result",
          "data": {
            "text/plain": [
              "array([[ 2.40581388, -0.87787194, -0.85141418, ..., -1.54161564,\n",
              "         1.47408654, -0.68894905],\n",
              "       [-0.42832564, -0.87787194,  0.60996192, ..., -0.31447368,\n",
              "         0.95963971,  0.84413251],\n",
              "       [-0.60837686, -0.26951841,  1.03169096, ...,  0.55577557,\n",
              "         0.07206398,  0.14871407],\n",
              "       ...,\n",
              "       [-1.28380708, -0.87787194,  1.85197712, ..., -0.36619726,\n",
              "         0.85798998, -0.29382494],\n",
              "       [-0.37307183,  3.18611055, -0.85141418, ..., -0.38430051,\n",
              "        -1.36962676, -0.29382494],\n",
              "       [-0.82653415,  2.37874174, -0.85141418, ..., -0.53688508,\n",
              "        -0.72749795,  0.68608287]])"
            ]
          },
          "metadata": {},
          "execution_count": 17
        }
      ]
    },
    {
      "cell_type": "code",
      "source": [
        "# import libraries for ANN Model.\n",
        "from keras.models import Sequential\n",
        "from keras.layers import Dense"
      ],
      "metadata": {
        "id": "__8D_GSLrbKb"
      },
      "execution_count": 18,
      "outputs": []
    },
    {
      "cell_type": "code",
      "source": [
        "mod=Sequential()"
      ],
      "metadata": {
        "id": "IpfE-pQcrbMq"
      },
      "execution_count": 19,
      "outputs": []
    },
    {
      "cell_type": "code",
      "source": [
        "mod.add(Dense(units=6,input_dim=8,kernel_initializer='normal',activation='relu'))"
      ],
      "metadata": {
        "id": "KDJw38wfrbOb"
      },
      "execution_count": 21,
      "outputs": []
    },
    {
      "cell_type": "code",
      "source": [
        "mod.add(Dense(units=6,kernel_initializer='normal',activation='relu'))"
      ],
      "metadata": {
        "id": "NGJoEPvarbQm"
      },
      "execution_count": 22,
      "outputs": []
    },
    {
      "cell_type": "code",
      "source": [
        "mod.add(Dense(1,kernel_initializer='normal'))"
      ],
      "metadata": {
        "id": "PfwOdNqNnnTv"
      },
      "execution_count": 23,
      "outputs": []
    },
    {
      "cell_type": "code",
      "source": [
        "mod.compile(loss='mean_squared_error',optimizer='adam')"
      ],
      "metadata": {
        "id": "fbeZX7k5ZD4g"
      },
      "execution_count": 25,
      "outputs": []
    },
    {
      "cell_type": "code",
      "source": [
        "mod.fit(xtr,ytr,batch_size=20,epochs=50,verbose=1)"
      ],
      "metadata": {
        "id": "ezfWCKnAZD7K",
        "colab": {
          "base_uri": "https://localhost:8080/"
        },
        "outputId": "1cfbe010-3040-48b6-8054-61ab462f0013"
      },
      "execution_count": 27,
      "outputs": [
        {
          "output_type": "stream",
          "name": "stdout",
          "text": [
            "Epoch 1/50\n",
            "39/39 [==============================] - 0s 1ms/step - loss: 1589.3402\n",
            "Epoch 2/50\n",
            "39/39 [==============================] - 0s 1ms/step - loss: 1571.0934\n",
            "Epoch 3/50\n",
            "39/39 [==============================] - 0s 1ms/step - loss: 1534.2559\n",
            "Epoch 4/50\n",
            "39/39 [==============================] - 0s 1ms/step - loss: 1469.4702\n",
            "Epoch 5/50\n",
            "39/39 [==============================] - 0s 1ms/step - loss: 1369.1167\n",
            "Epoch 6/50\n",
            "39/39 [==============================] - 0s 1ms/step - loss: 1230.8213\n",
            "Epoch 7/50\n",
            "39/39 [==============================] - 0s 1ms/step - loss: 1063.9463\n",
            "Epoch 8/50\n",
            "39/39 [==============================] - 0s 1ms/step - loss: 880.8950\n",
            "Epoch 9/50\n",
            "39/39 [==============================] - 0s 1ms/step - loss: 702.8088\n",
            "Epoch 10/50\n",
            "39/39 [==============================] - 0s 997us/step - loss: 544.9967\n",
            "Epoch 11/50\n",
            "39/39 [==============================] - 0s 954us/step - loss: 421.8021\n",
            "Epoch 12/50\n",
            "39/39 [==============================] - 0s 1ms/step - loss: 332.3620\n",
            "Epoch 13/50\n",
            "39/39 [==============================] - 0s 1ms/step - loss: 276.9833\n",
            "Epoch 14/50\n",
            "39/39 [==============================] - 0s 1ms/step - loss: 245.8883\n",
            "Epoch 15/50\n",
            "39/39 [==============================] - 0s 1ms/step - loss: 228.5637\n",
            "Epoch 16/50\n",
            "39/39 [==============================] - 0s 1ms/step - loss: 217.0360\n",
            "Epoch 17/50\n",
            "39/39 [==============================] - 0s 1ms/step - loss: 207.7335\n",
            "Epoch 18/50\n",
            "39/39 [==============================] - 0s 984us/step - loss: 199.3515\n",
            "Epoch 19/50\n",
            "39/39 [==============================] - 0s 1ms/step - loss: 191.1492\n",
            "Epoch 20/50\n",
            "39/39 [==============================] - 0s 1ms/step - loss: 184.0199\n",
            "Epoch 21/50\n",
            "39/39 [==============================] - 0s 2ms/step - loss: 176.9240\n",
            "Epoch 22/50\n",
            "39/39 [==============================] - 0s 1ms/step - loss: 170.4868\n",
            "Epoch 23/50\n",
            "39/39 [==============================] - 0s 1ms/step - loss: 164.5526\n",
            "Epoch 24/50\n",
            "39/39 [==============================] - 0s 1ms/step - loss: 159.1059\n",
            "Epoch 25/50\n",
            "39/39 [==============================] - 0s 1ms/step - loss: 154.4550\n",
            "Epoch 26/50\n",
            "39/39 [==============================] - 0s 2ms/step - loss: 149.9685\n",
            "Epoch 27/50\n",
            "39/39 [==============================] - 0s 1ms/step - loss: 146.3334\n",
            "Epoch 28/50\n",
            "39/39 [==============================] - 0s 1ms/step - loss: 143.1346\n",
            "Epoch 29/50\n",
            "39/39 [==============================] - 0s 1ms/step - loss: 140.2746\n",
            "Epoch 30/50\n",
            "39/39 [==============================] - 0s 1ms/step - loss: 137.4158\n",
            "Epoch 31/50\n",
            "39/39 [==============================] - 0s 953us/step - loss: 135.1015\n",
            "Epoch 32/50\n",
            "39/39 [==============================] - 0s 998us/step - loss: 132.8115\n",
            "Epoch 33/50\n",
            "39/39 [==============================] - 0s 988us/step - loss: 131.0024\n",
            "Epoch 34/50\n",
            "39/39 [==============================] - 0s 1ms/step - loss: 129.3703\n",
            "Epoch 35/50\n",
            "39/39 [==============================] - 0s 1ms/step - loss: 127.9621\n",
            "Epoch 36/50\n",
            "39/39 [==============================] - 0s 1ms/step - loss: 126.7852\n",
            "Epoch 37/50\n",
            "39/39 [==============================] - 0s 1ms/step - loss: 125.2129\n",
            "Epoch 38/50\n",
            "39/39 [==============================] - 0s 1ms/step - loss: 123.9820\n",
            "Epoch 39/50\n",
            "39/39 [==============================] - 0s 1ms/step - loss: 122.9018\n",
            "Epoch 40/50\n",
            "39/39 [==============================] - 0s 1ms/step - loss: 122.0274\n",
            "Epoch 41/50\n",
            "39/39 [==============================] - 0s 1ms/step - loss: 121.0144\n",
            "Epoch 42/50\n",
            "39/39 [==============================] - 0s 1ms/step - loss: 119.9930\n",
            "Epoch 43/50\n",
            "39/39 [==============================] - 0s 1ms/step - loss: 119.3790\n",
            "Epoch 44/50\n",
            "39/39 [==============================] - 0s 998us/step - loss: 118.8432\n",
            "Epoch 45/50\n",
            "39/39 [==============================] - 0s 982us/step - loss: 118.5075\n",
            "Epoch 46/50\n",
            "39/39 [==============================] - 0s 999us/step - loss: 117.8853\n",
            "Epoch 47/50\n",
            "39/39 [==============================] - 0s 1ms/step - loss: 117.4499\n",
            "Epoch 48/50\n",
            "39/39 [==============================] - 0s 2ms/step - loss: 117.1445\n",
            "Epoch 49/50\n",
            "39/39 [==============================] - 0s 1ms/step - loss: 116.7357\n",
            "Epoch 50/50\n",
            "39/39 [==============================] - 0s 1ms/step - loss: 116.4279\n"
          ]
        },
        {
          "output_type": "execute_result",
          "data": {
            "text/plain": [
              "<keras.callbacks.History at 0x7f4f58559c00>"
            ]
          },
          "metadata": {},
          "execution_count": 27
        }
      ]
    },
    {
      "cell_type": "code",
      "source": [
        "from sklearn.metrics import mean_squared_error,r2_score"
      ],
      "metadata": {
        "id": "_lmaT2FSZEGA"
      },
      "execution_count": 32,
      "outputs": []
    },
    {
      "cell_type": "code",
      "source": [
        "pred=mod.predict(xts)\n",
        "print(pred)"
      ],
      "metadata": {
        "id": "ue2ss-WgZEPM",
        "colab": {
          "base_uri": "https://localhost:8080/"
        },
        "outputId": "66548b23-2993-4615-c3e4-6a46d2b398f7"
      },
      "execution_count": 29,
      "outputs": [
        {
          "output_type": "stream",
          "name": "stdout",
          "text": [
            "9/9 [==============================] - 0s 1ms/step\n",
            "[[37.80508 ]\n",
            " [17.82779 ]\n",
            " [60.241993]\n",
            " [55.318676]\n",
            " [25.212927]\n",
            " [54.947834]\n",
            " [48.95504 ]\n",
            " [30.266438]\n",
            " [54.93189 ]\n",
            " [38.64122 ]\n",
            " [19.233965]\n",
            " [40.75498 ]\n",
            " [25.95598 ]\n",
            " [33.693542]\n",
            " [48.62145 ]\n",
            " [56.827477]\n",
            " [36.062737]\n",
            " [28.48805 ]\n",
            " [49.030396]\n",
            " [32.753345]\n",
            " [51.20222 ]\n",
            " [31.106358]\n",
            " [32.15443 ]\n",
            " [48.592594]\n",
            " [23.413174]\n",
            " [23.05692 ]\n",
            " [71.04293 ]\n",
            " [29.700811]\n",
            " [56.827477]\n",
            " [47.17871 ]\n",
            " [20.450466]\n",
            " [38.08367 ]\n",
            " [19.751678]\n",
            " [29.825424]\n",
            " [24.846525]\n",
            " [17.179583]\n",
            " [54.510033]\n",
            " [28.5579  ]\n",
            " [29.002363]\n",
            " [26.654701]\n",
            " [50.906765]\n",
            " [30.869328]\n",
            " [24.535297]\n",
            " [32.362247]\n",
            " [57.322056]\n",
            " [53.83965 ]\n",
            " [30.526009]\n",
            " [42.366234]\n",
            " [37.850853]\n",
            " [55.32285 ]\n",
            " [37.984547]\n",
            " [19.665298]\n",
            " [20.39708 ]\n",
            " [30.700907]\n",
            " [40.021996]\n",
            " [44.5489  ]\n",
            " [35.91148 ]\n",
            " [53.427685]\n",
            " [59.6405  ]\n",
            " [36.653282]\n",
            " [31.327766]\n",
            " [16.84597 ]\n",
            " [48.803806]\n",
            " [56.820328]\n",
            " [20.150978]\n",
            " [46.052753]\n",
            " [31.761337]\n",
            " [33.38631 ]\n",
            " [22.700308]\n",
            " [20.099092]\n",
            " [30.294569]\n",
            " [30.29721 ]\n",
            " [54.27745 ]\n",
            " [20.231607]\n",
            " [35.21024 ]\n",
            " [51.026634]\n",
            " [25.863256]\n",
            " [22.311834]\n",
            " [23.747646]\n",
            " [25.567226]\n",
            " [21.257202]\n",
            " [42.54333 ]\n",
            " [33.175232]\n",
            " [30.305729]\n",
            " [35.817944]\n",
            " [35.288242]\n",
            " [46.4322  ]\n",
            " [48.13762 ]\n",
            " [37.122314]\n",
            " [34.23006 ]\n",
            " [51.987164]\n",
            " [19.319366]\n",
            " [29.080204]\n",
            " [37.572487]\n",
            " [31.220818]\n",
            " [54.480125]\n",
            " [30.160336]\n",
            " [31.911358]\n",
            " [48.83379 ]\n",
            " [26.404585]\n",
            " [26.881062]\n",
            " [39.42596 ]\n",
            " [21.37522 ]\n",
            " [31.07032 ]\n",
            " [36.527718]\n",
            " [35.746754]\n",
            " [37.256634]\n",
            " [34.29968 ]\n",
            " [27.789831]\n",
            " [37.851234]\n",
            " [21.848488]\n",
            " [54.58819 ]\n",
            " [28.15609 ]\n",
            " [30.079052]\n",
            " [41.080208]\n",
            " [61.738873]\n",
            " [31.629482]\n",
            " [36.87922 ]\n",
            " [39.976376]\n",
            " [29.095547]\n",
            " [39.74789 ]\n",
            " [26.197304]\n",
            " [61.38085 ]\n",
            " [22.93648 ]\n",
            " [21.060558]\n",
            " [19.079868]\n",
            " [18.298632]\n",
            " [20.875088]\n",
            " [39.29831 ]\n",
            " [30.383467]\n",
            " [30.435886]\n",
            " [46.493053]\n",
            " [31.221045]\n",
            " [21.32254 ]\n",
            " [21.189674]\n",
            " [51.79525 ]\n",
            " [60.968063]\n",
            " [36.209385]\n",
            " [16.843903]\n",
            " [22.072336]\n",
            " [36.94295 ]\n",
            " [46.113983]\n",
            " [30.542873]\n",
            " [24.24203 ]\n",
            " [19.69191 ]\n",
            " [35.481525]\n",
            " [45.83917 ]\n",
            " [22.431068]\n",
            " [28.314072]\n",
            " [18.992409]\n",
            " [22.636087]\n",
            " [35.44813 ]\n",
            " [24.330956]\n",
            " [29.515825]\n",
            " [31.147898]\n",
            " [29.733809]\n",
            " [47.10075 ]\n",
            " [30.662392]\n",
            " [29.780172]\n",
            " [21.702156]\n",
            " [41.612183]\n",
            " [39.943447]\n",
            " [27.676395]\n",
            " [25.711622]\n",
            " [33.326286]\n",
            " [19.608673]\n",
            " [53.75491 ]\n",
            " [53.76288 ]\n",
            " [56.106823]\n",
            " [13.256793]\n",
            " [32.049515]\n",
            " [29.418932]\n",
            " [24.002375]\n",
            " [58.66715 ]\n",
            " [23.296938]\n",
            " [20.153028]\n",
            " [15.771179]\n",
            " [49.744434]\n",
            " [24.083431]\n",
            " [41.458416]\n",
            " [32.57497 ]\n",
            " [30.79251 ]\n",
            " [18.377842]\n",
            " [39.576157]\n",
            " [31.290237]\n",
            " [35.70634 ]\n",
            " [40.719822]\n",
            " [39.106884]\n",
            " [30.812237]\n",
            " [48.803806]\n",
            " [21.357153]\n",
            " [74.10754 ]\n",
            " [44.89954 ]\n",
            " [28.568417]\n",
            " [18.316868]\n",
            " [28.87617 ]\n",
            " [29.752506]\n",
            " [25.310036]\n",
            " [28.351568]\n",
            " [56.707615]\n",
            " [18.437506]\n",
            " [21.78252 ]\n",
            " [44.827812]\n",
            " [30.901096]\n",
            " [31.918829]\n",
            " [20.240498]\n",
            " [40.076263]\n",
            " [30.444534]\n",
            " [31.958918]\n",
            " [23.688477]\n",
            " [46.238033]\n",
            " [21.33926 ]\n",
            " [23.629644]\n",
            " [22.976881]\n",
            " [32.985462]\n",
            " [22.36144 ]\n",
            " [22.784584]\n",
            " [37.649654]\n",
            " [20.175308]\n",
            " [39.139072]\n",
            " [56.331623]\n",
            " [31.058512]\n",
            " [37.249294]\n",
            " [38.438915]\n",
            " [44.847813]\n",
            " [33.98163 ]\n",
            " [25.329294]\n",
            " [32.7853  ]\n",
            " [36.562695]\n",
            " [43.570183]\n",
            " [38.38279 ]\n",
            " [38.04528 ]\n",
            " [62.008324]\n",
            " [21.445425]\n",
            " [41.72169 ]\n",
            " [31.18864 ]\n",
            " [29.802517]\n",
            " [36.49272 ]\n",
            " [28.02263 ]\n",
            " [57.579388]\n",
            " [60.31088 ]\n",
            " [33.604656]\n",
            " [41.04109 ]\n",
            " [32.24474 ]\n",
            " [28.256054]\n",
            " [30.144367]\n",
            " [46.535336]\n",
            " [25.817316]\n",
            " [34.11215 ]\n",
            " [16.77199 ]\n",
            " [13.603094]\n",
            " [40.148968]\n",
            " [42.10869 ]\n",
            " [33.31671 ]\n",
            " [38.470387]\n",
            " [22.52478 ]\n",
            " [24.366823]\n",
            " [18.946697]]\n"
          ]
        }
      ]
    },
    {
      "cell_type": "code",
      "source": [
        "m=mean_squared_error(yts,pred)\n",
        "print(\"MSE is:  \",m)\n",
        "r=r2_score(yts,pred)\n",
        "print(\"R SQUARED VALUE is:  \",r*100)"
      ],
      "metadata": {
        "id": "CVaGnCRXZESS",
        "colab": {
          "base_uri": "https://localhost:8080/"
        },
        "outputId": "5ecb24ce-af5a-4874-f62a-9dd0564fb801"
      },
      "execution_count": 34,
      "outputs": [
        {
          "output_type": "stream",
          "name": "stdout",
          "text": [
            "MSE is:   98.66709542391438\n",
            "R SQUARED VALUE is:   61.25602005509252\n"
          ]
        }
      ]
    }
  ]
}